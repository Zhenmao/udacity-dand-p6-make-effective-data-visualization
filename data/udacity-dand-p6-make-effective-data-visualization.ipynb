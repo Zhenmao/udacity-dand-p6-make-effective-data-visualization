{
 "cells": [
  {
   "cell_type": "markdown",
   "metadata": {},
   "source": [
    "# Make Effective Data Visualization"
   ]
  },
  {
   "cell_type": "markdown",
   "metadata": {},
   "source": [
    "This notebook investigate the original RITA Airline On-Time Statistics and Delay Causes from [2008 dataset](http://stat-computing.org/dataexpo/2009/the-data.html) and generate the final dataset for visualization."
   ]
  },
  {
   "cell_type": "code",
   "execution_count": 1,
   "metadata": {},
   "outputs": [
    {
     "name": "stdout",
     "output_type": "stream",
     "text": [
      "Populating the interactive namespace from numpy and matplotlib\n"
     ]
    }
   ],
   "source": [
    "import pandas as pd\n",
    "import seaborn as sns\n",
    "import matplotlib.pyplot as plt\n",
    "%pylab inline"
   ]
  },
  {
   "cell_type": "code",
   "execution_count": 2,
   "metadata": {
    "collapsed": true
   },
   "outputs": [],
   "source": [
    "flights_df = pd.read_csv('2008.csv')"
   ]
  },
  {
   "cell_type": "code",
   "execution_count": 6,
   "metadata": {},
   "outputs": [
    {
     "data": {
      "text/plain": [
       "array(['Year', 'Month', 'DayofMonth', 'DayOfWeek', 'DepTime', 'CRSDepTime',\n",
       "       'ArrTime', 'CRSArrTime', 'UniqueCarrier', 'FlightNum', 'TailNum',\n",
       "       'ActualElapsedTime', 'CRSElapsedTime', 'AirTime', 'ArrDelay',\n",
       "       'DepDelay', 'Origin', 'Dest', 'Distance', 'TaxiIn', 'TaxiOut',\n",
       "       'Cancelled', 'CancellationCode', 'Diverted', 'CarrierDelay',\n",
       "       'WeatherDelay', 'NASDelay', 'SecurityDelay', 'LateAircraftDelay'], dtype=object)"
      ]
     },
     "execution_count": 6,
     "metadata": {},
     "output_type": "execute_result"
    }
   ],
   "source": [
    "# Variables\n",
    "flights_df.columns.values"
   ]
  },
  {
   "cell_type": "markdown",
   "metadata": {},
   "source": [
    "I will explore the delays by month, therefore I subset the dataset with the following variables:\n",
    "- Month: 1-12\n",
    "- ArrDelay: Arrival delay, in minutes\n",
    "- DepDelay: Departure delay, in minutes\n",
    "- Cancelled: Was the flight cancelled?"
   ]
  },
  {
   "cell_type": "code",
   "execution_count": 42,
   "metadata": {},
   "outputs": [],
   "source": [
    "flights_delays_df = flights_df[['Month', 'ArrDelay', 'DepDelay', 'Cancelled']]"
   ]
  },
  {
   "cell_type": "markdown",
   "metadata": {},
   "source": [
    "According to [RITA website](https://www.rita.dot.gov/bts/help_with_data/aviation/index.html#q8), a flight is counted as \"on time\" if it operated less than 15 minutes later the scheduled time shown in the carriers' Computerized Reservations Systems (CRS). Arrival performance is based on arrival at the gate. Departure performance is based on departure from the gate.\n",
    "\n",
    "I will add a new column 'ArrDelayed' to track whether a flight counts as arrival delayed. A flight is counted as arrival delayed if arrival delay minutes is greater or equal to 15 minutes.\n",
    "\n",
    "Similarly, I will add another column 'DepDelayed' to track whether a flight counts as departure delayed. A flight is counted as departure delayed if departure delay minutes is greater or equal to 15 minutes."
   ]
  },
  {
   "cell_type": "code",
   "execution_count": 44,
   "metadata": {},
   "outputs": [
    {
     "name": "stderr",
     "output_type": "stream",
     "text": [
      "/Users/zhenmao/anaconda/lib/python3.6/site-packages/pandas/core/indexing.py:517: SettingWithCopyWarning: \n",
      "A value is trying to be set on a copy of a slice from a DataFrame.\n",
      "Try using .loc[row_indexer,col_indexer] = value instead\n",
      "\n",
      "See the caveats in the documentation: http://pandas.pydata.org/pandas-docs/stable/indexing.html#indexing-view-versus-copy\n",
      "  self.obj[item] = s\n"
     ]
    }
   ],
   "source": [
    "# Add ArrDelayed column which contains True for arrival delayed fights, \n",
    "# False for non-delayed flights\n",
    "flights_delays_df.loc[:,'ArrDelayed'] = flights_delays_df['ArrDelay'] > 15\n",
    "\n",
    "# Add ArrDelayed column which contains True for departure delayed fights, \n",
    "# False for non-delayed flights\n",
    "flights_delays_df.loc[:,'DepDelayed'] = flights_delays_df['DepDelay'] > 15"
   ]
  },
  {
   "cell_type": "code",
   "execution_count": 46,
   "metadata": {},
   "outputs": [
    {
     "data": {
      "text/html": [
       "<div>\n",
       "<style>\n",
       "    .dataframe thead tr:only-child th {\n",
       "        text-align: right;\n",
       "    }\n",
       "\n",
       "    .dataframe thead th {\n",
       "        text-align: left;\n",
       "    }\n",
       "\n",
       "    .dataframe tbody tr th {\n",
       "        vertical-align: top;\n",
       "    }\n",
       "</style>\n",
       "<table border=\"1\" class=\"dataframe\">\n",
       "  <thead>\n",
       "    <tr style=\"text-align: right;\">\n",
       "      <th></th>\n",
       "      <th>Month</th>\n",
       "      <th>ArrDelay</th>\n",
       "      <th>DepDelay</th>\n",
       "      <th>Cancelled</th>\n",
       "      <th>ArrDelayed</th>\n",
       "      <th>DepDelayed</th>\n",
       "    </tr>\n",
       "  </thead>\n",
       "  <tbody>\n",
       "    <tr>\n",
       "      <th>0</th>\n",
       "      <td>1</td>\n",
       "      <td>-14.0</td>\n",
       "      <td>8.0</td>\n",
       "      <td>0</td>\n",
       "      <td>False</td>\n",
       "      <td>False</td>\n",
       "    </tr>\n",
       "    <tr>\n",
       "      <th>1</th>\n",
       "      <td>1</td>\n",
       "      <td>2.0</td>\n",
       "      <td>19.0</td>\n",
       "      <td>0</td>\n",
       "      <td>False</td>\n",
       "      <td>True</td>\n",
       "    </tr>\n",
       "    <tr>\n",
       "      <th>2</th>\n",
       "      <td>1</td>\n",
       "      <td>14.0</td>\n",
       "      <td>8.0</td>\n",
       "      <td>0</td>\n",
       "      <td>False</td>\n",
       "      <td>False</td>\n",
       "    </tr>\n",
       "    <tr>\n",
       "      <th>3</th>\n",
       "      <td>1</td>\n",
       "      <td>-6.0</td>\n",
       "      <td>-4.0</td>\n",
       "      <td>0</td>\n",
       "      <td>False</td>\n",
       "      <td>False</td>\n",
       "    </tr>\n",
       "    <tr>\n",
       "      <th>4</th>\n",
       "      <td>1</td>\n",
       "      <td>34.0</td>\n",
       "      <td>34.0</td>\n",
       "      <td>0</td>\n",
       "      <td>True</td>\n",
       "      <td>True</td>\n",
       "    </tr>\n",
       "  </tbody>\n",
       "</table>\n",
       "</div>"
      ],
      "text/plain": [
       "   Month  ArrDelay  DepDelay  Cancelled  ArrDelayed  DepDelayed\n",
       "0      1     -14.0       8.0          0       False       False\n",
       "1      1       2.0      19.0          0       False        True\n",
       "2      1      14.0       8.0          0       False       False\n",
       "3      1      -6.0      -4.0          0       False       False\n",
       "4      1      34.0      34.0          0        True        True"
      ]
     },
     "execution_count": 46,
     "metadata": {},
     "output_type": "execute_result"
    }
   ],
   "source": [
    "flights_delays_df.head()"
   ]
  },
  {
   "cell_type": "code",
   "execution_count": 47,
   "metadata": {},
   "outputs": [],
   "source": [
    "# Calculate monthly cancelled, arrival delayed, and departure delayed rates\n",
    "flights_delays_months_df = flights_delays_df.groupby('Month').mean()"
   ]
  },
  {
   "cell_type": "code",
   "execution_count": 48,
   "metadata": {},
   "outputs": [
    {
     "data": {
      "text/html": [
       "<div>\n",
       "<style>\n",
       "    .dataframe thead tr:only-child th {\n",
       "        text-align: right;\n",
       "    }\n",
       "\n",
       "    .dataframe thead th {\n",
       "        text-align: left;\n",
       "    }\n",
       "\n",
       "    .dataframe tbody tr th {\n",
       "        vertical-align: top;\n",
       "    }\n",
       "</style>\n",
       "<table border=\"1\" class=\"dataframe\">\n",
       "  <thead>\n",
       "    <tr style=\"text-align: right;\">\n",
       "      <th></th>\n",
       "      <th>ArrDelay</th>\n",
       "      <th>DepDelay</th>\n",
       "      <th>Cancelled</th>\n",
       "      <th>ArrDelayed</th>\n",
       "      <th>DepDelayed</th>\n",
       "    </tr>\n",
       "    <tr>\n",
       "      <th>Month</th>\n",
       "      <th></th>\n",
       "      <th></th>\n",
       "      <th></th>\n",
       "      <th></th>\n",
       "      <th></th>\n",
       "    </tr>\n",
       "  </thead>\n",
       "  <tbody>\n",
       "    <tr>\n",
       "      <th>1</th>\n",
       "      <td>10.188856</td>\n",
       "      <td>11.476096</td>\n",
       "      <td>0.028572</td>\n",
       "      <td>0.236354</td>\n",
       "      <td>0.203318</td>\n",
       "    </tr>\n",
       "    <tr>\n",
       "      <th>2</th>\n",
       "      <td>13.077837</td>\n",
       "      <td>13.706226</td>\n",
       "      <td>0.036182</td>\n",
       "      <td>0.264713</td>\n",
       "      <td>0.227872</td>\n",
       "    </tr>\n",
       "    <tr>\n",
       "      <th>3</th>\n",
       "      <td>11.192365</td>\n",
       "      <td>12.491269</td>\n",
       "      <td>0.026267</td>\n",
       "      <td>0.245915</td>\n",
       "      <td>0.216730</td>\n",
       "    </tr>\n",
       "    <tr>\n",
       "      <th>4</th>\n",
       "      <td>6.807297</td>\n",
       "      <td>8.201133</td>\n",
       "      <td>0.017312</td>\n",
       "      <td>0.195633</td>\n",
       "      <td>0.165163</td>\n",
       "    </tr>\n",
       "    <tr>\n",
       "      <th>5</th>\n",
       "      <td>5.978448</td>\n",
       "      <td>7.642741</td>\n",
       "      <td>0.010274</td>\n",
       "      <td>0.189488</td>\n",
       "      <td>0.158588</td>\n",
       "    </tr>\n",
       "    <tr>\n",
       "      <th>6</th>\n",
       "      <td>13.266756</td>\n",
       "      <td>13.609818</td>\n",
       "      <td>0.017959</td>\n",
       "      <td>0.260693</td>\n",
       "      <td>0.224876</td>\n",
       "    </tr>\n",
       "    <tr>\n",
       "      <th>7</th>\n",
       "      <td>9.975050</td>\n",
       "      <td>11.807545</td>\n",
       "      <td>0.016878</td>\n",
       "      <td>0.215240</td>\n",
       "      <td>0.196690</td>\n",
       "    </tr>\n",
       "    <tr>\n",
       "      <th>8</th>\n",
       "      <td>6.910915</td>\n",
       "      <td>9.614753</td>\n",
       "      <td>0.016063</td>\n",
       "      <td>0.189374</td>\n",
       "      <td>0.173151</td>\n",
       "    </tr>\n",
       "    <tr>\n",
       "      <th>9</th>\n",
       "      <td>0.697733</td>\n",
       "      <td>3.961819</td>\n",
       "      <td>0.018327</td>\n",
       "      <td>0.125406</td>\n",
       "      <td>0.108270</td>\n",
       "    </tr>\n",
       "    <tr>\n",
       "      <th>10</th>\n",
       "      <td>0.415495</td>\n",
       "      <td>3.803488</td>\n",
       "      <td>0.005841</td>\n",
       "      <td>0.125301</td>\n",
       "      <td>0.108117</td>\n",
       "    </tr>\n",
       "    <tr>\n",
       "      <th>11</th>\n",
       "      <td>2.015858</td>\n",
       "      <td>5.420469</td>\n",
       "      <td>0.008519</td>\n",
       "      <td>0.149502</td>\n",
       "      <td>0.126947</td>\n",
       "    </tr>\n",
       "    <tr>\n",
       "      <th>12</th>\n",
       "      <td>16.680505</td>\n",
       "      <td>17.304380</td>\n",
       "      <td>0.032625</td>\n",
       "      <td>0.299823</td>\n",
       "      <td>0.263378</td>\n",
       "    </tr>\n",
       "  </tbody>\n",
       "</table>\n",
       "</div>"
      ],
      "text/plain": [
       "        ArrDelay   DepDelay  Cancelled  ArrDelayed  DepDelayed\n",
       "Month                                                         \n",
       "1      10.188856  11.476096   0.028572    0.236354    0.203318\n",
       "2      13.077837  13.706226   0.036182    0.264713    0.227872\n",
       "3      11.192365  12.491269   0.026267    0.245915    0.216730\n",
       "4       6.807297   8.201133   0.017312    0.195633    0.165163\n",
       "5       5.978448   7.642741   0.010274    0.189488    0.158588\n",
       "6      13.266756  13.609818   0.017959    0.260693    0.224876\n",
       "7       9.975050  11.807545   0.016878    0.215240    0.196690\n",
       "8       6.910915   9.614753   0.016063    0.189374    0.173151\n",
       "9       0.697733   3.961819   0.018327    0.125406    0.108270\n",
       "10      0.415495   3.803488   0.005841    0.125301    0.108117\n",
       "11      2.015858   5.420469   0.008519    0.149502    0.126947\n",
       "12     16.680505  17.304380   0.032625    0.299823    0.263378"
      ]
     },
     "execution_count": 48,
     "metadata": {},
     "output_type": "execute_result"
    }
   ],
   "source": [
    "flights_delays_months_df"
   ]
  },
  {
   "cell_type": "code",
   "execution_count": 50,
   "metadata": {},
   "outputs": [
    {
     "data": {
      "text/plain": [
       "<matplotlib.axes._subplots.AxesSubplot at 0x11b6c7860>"
      ]
     },
     "execution_count": 50,
     "metadata": {},
     "output_type": "execute_result"
    },
    {
     "data": {
      "image/png": "[encoded data removed]",
      "text/plain": [
       "<matplotlib.figure.Figure at 0x10f878588>"
      ]
     },
     "metadata": {},
     "output_type": "display_data"
    }
   ],
   "source": [
    "flights_delays_months_df[['DepDelayed', 'ArrDelayed', 'Cancelled']].plot()"
   ]
  },
  {
   "cell_type": "code",
   "execution_count": 52,
   "metadata": {},
   "outputs": [],
   "source": [
    "# Save the final dataset to csv\n",
    "flights_delays_months_df.to_csv('2008_rates_by_month.csv', \n",
    "                                columns = ['DepDelayed', 'ArrDelayed', 'Cancelled'])"
   ]
  },
  {
   "cell_type": "code",
   "execution_count": null,
   "metadata": {
    "collapsed": true
   },
   "outputs": [],
   "source": []
  }
 ],
 "metadata": {
  "kernelspec": {
   "display_name": "Python 3",
   "language": "python",
   "name": "python3"
  },
  "language_info": {
   "codemirror_mode": {
    "name": "ipython",
    "version": 3
   },
   "file_extension": ".py",
   "mimetype": "text/x-python",
   "name": "python",
   "nbconvert_exporter": "python",
   "pygments_lexer": "ipython3",
   "version": "3.6.2"
  }
 },
 "nbformat": 4,
 "nbformat_minor": 2
}
